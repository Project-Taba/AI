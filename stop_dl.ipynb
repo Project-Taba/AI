{
 "cells": [
  {
   "cell_type": "code",
   "execution_count": 2,
   "metadata": {},
   "source": [
    "import numpy as np\n",
    "import keras\n",
    "from keras.models import Sequential\n",
    "from keras.layers import LSTM, Dropout, RepeatVector, TimeDistributed, Dense\n",
    "import pandas as pd\n",
    "from matplotlib import pyplot as plt\n",
    "from sklearn.preprocessing import StandardScaler, MinMaxScaler\n",
    "import seaborn as sns"
   ],
   "outputs": []
  },
  {
   "cell_type": "code",
   "execution_count": 2,
   "metadata": {},
   "source": [
    "# 시퀀스 데이터 생성 함수\n",
    "def to_sequences(x, seq_size=1):\n",
    "    x_values = []\n",
    "    for i in range(len(x)-seq_size):\n",
    "        x_values.append(x.iloc[i:(i+seq_size)].values)\n",
    "    return np.array(x_values)\n"
   ],
   "outputs": []
  },
  {
   "cell_type": "code",
   "execution_count": 3,
   "metadata": {},
   "source": [
    "# sns.lineplot(x=df['Date'], y=df['brake_value'])"
   ],
   "outputs": []
  },
  {
   "cell_type": "code",
   "execution_count": 4,
   "metadata": {},
   "source": [
    "# sns.lineplot(x=df['Date'], y=df['shift_speed'])"
   ],
   "outputs": []
  },
  {
   "cell_type": "code",
   "execution_count": 5,
   "metadata": {},
   "source": [
    "# sns.lineplot(x=df['Date'], y=df['accel_value'])"
   ],
   "outputs": []
  },
  {
   "cell_type": "code",
   "execution_count": 6,
   "metadata": {},
   "source": [
    "dataframe = pd.read_csv('C:\\\\Users\\\\jinho\\\\Desktop\\\\Taba_AI\\\\dataset\\\\0510_brake.csv')\n",
    "\n",
    "# 이전 값을 빼고 min max scaling\n",
    "dataframe['shift_speed'] = dataframe['speed'] - dataframe['speed'].shift(1)\n",
    "dataframe['shift_speed'].fillna(0, inplace = True)\n",
    "\n",
    "min_shift_speed = min(dataframe['shift_speed'])\n",
    "max_shift_speed = max(dataframe['shift_speed'])\n",
    "\n",
    "normalization_speed_df = (dataframe['shift_speed'] - min_shift_speed) / (max_shift_speed - min_shift_speed)\n",
    "\n",
    "dataframe['normalize_speed'] = normalization_speed_df\n",
    "dataframe.head()\n",
    "\n",
    "df = dataframe[['accel_value', 'brake_value', 'shift_speed',  'Date']]"
   ],
   "outputs": []
  },
  {
   "cell_type": "code",
   "execution_count": 7,
   "metadata": {},
   "source": [
    "count = df['accel_value'].count()\n",
    "train = df.iloc[:int(count*0.8)]\n",
    "test = df.iloc[int(count*0.8):]\n",
    "\n",
    "# 데이터 정규화\n",
    "scaler = MinMaxScaler()\n",
    "scaler = scaler.fit(train[['accel_value', 'brake_value', 'shift_speed']])\n",
    "\n",
    "train[['accel_value','brake_value', 'shift_speed']] = scaler.transform(train[['accel_value','brake_value', 'shift_speed']])\n",
    "test[['accel_value','brake_value', 'shift_speed']] = scaler.transform(test[['accel_value','brake_value', 'shift_speed']])"
   ],
   "outputs": []
  },
  {
   "cell_type": "code",
   "execution_count": 8,
   "metadata": {},
   "source": [
    "seq_size = 30  # Number of time steps to look back\n",
    "\n",
    "trainX = to_sequences(train[['accel_value', 'brake_value', 'shift_speed']], seq_size)\n",
    "testX = to_sequences(test[['accel_value', 'brake_value', 'shift_speed']], seq_size)\n",
    "\n",
    "# 예측 값은 시퀀스의 마지막 값으로 설정\n",
    "trainY = train[['accel_value', 'brake_value', 'shift_speed']].iloc[seq_size:].values\n",
    "testY = test[['accel_value', 'brake_value', 'shift_speed']].iloc[seq_size:].values"
   ],
   "outputs": []
  },
  {
   "cell_type": "code",
   "execution_count": 9,
   "metadata": {},
   "source": [
    "# # 모델 정의\n",
    "# model = Sequential()\n",
    "# model.add(LSTM(128, input_shape=(trainX.shape[1], trainX.shape[2])))\n",
    "# model.add(Dropout(rate=0.2))\n",
    "# # RepeatVector 층 제거 - 시퀀스-투-벡터 모델링에 적합\n",
    "# model.add(Dense(trainY.shape[1]))  # trainY.shape[1] == 3, 출력 차원을 trainY와 일치시킴\n",
    "# model.compile(optimizer='adam', loss='mae')\n",
    "# model.summary()"
   ],
   "outputs": []
  },
  {
   "cell_type": "code",
   "execution_count": 10,
   "metadata": {},
   "source": [
    "# # 모델 학습\n",
    "# history = model.fit(trainX, trainY, epochs=10, batch_size=32, validation_split=0.1, verbose=1)\n",
    "\n",
    "# plt.plot(history.history['loss'], label='Training loss')\n",
    "# plt.plot(history.history['val_loss'], label='Validation loss')\n",
    "# plt.legend()"
   ],
   "outputs": []
  },
  {
   "cell_type": "code",
   "execution_count": 11,
   "metadata": {},
   "source": [
    "from keras.metrics import MeanAbsoluteError\n",
    "# 사용자 정의 메트릭을 custom_objects로 제공\n",
    "model = keras.models.load_model(\n",
    "    'C:\\\\Users\\\\jinho\\\\Desktop\\\\Taba_AI\\\\taba_model.h5',\n",
    "    custom_objects={'mae': MeanAbsoluteError()}\n",
    ")\n",
    "\n",
    "print(model.summary())"
   ],
   "outputs": []
  },
  {
   "cell_type": "code",
   "execution_count": 35,
   "metadata": {},
   "source": [
    "sample = np.expand_dims(testX[0], axis=0)\n",
    "# 예측\n",
    "prediction = model.predict(sample)\n",
    "testMAE = np.mean(np.abs(prediction - testY[0]), axis=1)\n",
    "print(testMAE)\n",
    "print(\"y:\", testY[0])"
   ],
   "outputs": []
  },
  {
   "cell_type": "code",
   "execution_count": 12,
   "metadata": {},
   "source": [
    "# 모델 평가 및 이상치 탐지\n",
    "trainPredict = model.predict(trainX)\n",
    "# trainY와 예측값의 차이 계산\n",
    "trainMAE = np.mean(np.abs(trainPredict - trainY), axis=1)\n",
    "plt.hist(trainMAE, bins=30)\n",
    "plt.show()\n",
    "print(max(trainMAE))\n",
    "# trainMAE = 0.4252552301949038\n",
    "\n",
    "max_trainMAE = max(trainMAE) * 0.8  # 또는 최대값의 90%를 임계값으로 정의.\n",
    "testPredict = model.predict(testX)\n",
    "# testY와 예측값의 차이 계산\n",
    "testMAE = np.mean(np.abs(testPredict - testY), axis=1)\n",
    "plt.hist(testMAE, bins=30)\n",
    "plt.show()"
   ],
   "outputs": []
  },
  {
   "cell_type": "code",
   "execution_count": 13,
   "metadata": {},
   "source": [
    "# Capture all details in a DataFrame for easy plotting\n",
    "anomaly_df = pd.DataFrame(test[seq_size:])\n",
    "anomaly_df['testMAE'] = testMAE\n",
    "anomaly_df['max_trainMAE'] = max_trainMAE\n",
    "anomaly_df['anomaly'] = anomaly_df['testMAE'] > anomaly_df['max_trainMAE']\n",
    "anomaly_df[['shift_speed', 'accel_value', 'brake_value']] = test[seq_size:][['shift_speed', 'accel_value', 'brake_value']]"
   ],
   "outputs": []
  },
  {
   "cell_type": "code",
   "execution_count": 14,
   "metadata": {},
   "source": [
    "# Plot testMAE vs max_trainMAE\n",
    "sns.lineplot(x=anomaly_df['Date'], y=anomaly_df['testMAE'])\n",
    "sns.lineplot(x=anomaly_df['Date'], y=anomaly_df['max_trainMAE'])\n",
    "\n",
    "anomalies = anomaly_df.loc[anomaly_df['anomaly'] == True]\n",
    "\n",
    "\n",
    "# Plot anomalies\n",
    "sns.lineplot(x=anomaly_df['Date'], y=scaler.inverse_transform(anomaly_df[['shift_speed', 'accel_value', 'brake_value']])[:, 0])\n",
    "\n",
    "if not anomalies.empty:\n",
    "    sns.scatterplot(x=anomalies['Date'], y=scaler.inverse_transform(anomalies[['shift_speed', 'accel_value', 'brake_value']])[:, 0], color='r')"
   ],
   "outputs": []
  },
  {
   "cell_type": "code",
   "execution_count": 15,
   "metadata": {},
   "source": [
    "print(anomalies)"
   ],
   "outputs": []
  }
 ],
 "metadata": {
  "kernelspec": {
   "display_name": "ml",
   "language": "python",
   "name": "ml"
  },
  "language_info": {
   "codemirror_mode": {
    "name": "ipython",
    "version": 3
   },
   "file_extension": ".py",
   "mimetype": "text/x-python",
   "name": "python",
   "nbconvert_exporter": "python",
   "pygments_lexer": "ipython3",
   "version": "3.12.2"
  }
 },
 "nbformat": 4,
 "nbformat_minor": 4
}
